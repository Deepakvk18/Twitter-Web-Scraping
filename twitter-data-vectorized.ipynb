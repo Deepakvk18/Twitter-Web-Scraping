{
 "cells": [
  {
   "cell_type": "code",
   "execution_count": 1,
   "id": "9a52bb24",
   "metadata": {
    "execution": {
     "iopub.execute_input": "2022-12-05T06:08:32.435835Z",
     "iopub.status.busy": "2022-12-05T06:08:32.435369Z",
     "iopub.status.idle": "2022-12-05T06:08:43.772475Z",
     "shell.execute_reply": "2022-12-05T06:08:43.771435Z"
    },
    "papermill": {
     "duration": 11.345953,
     "end_time": "2022-12-05T06:08:43.775411",
     "exception": false,
     "start_time": "2022-12-05T06:08:32.429458",
     "status": "completed"
    },
    "tags": []
   },
   "outputs": [],
   "source": [
    "import numpy as np\n",
    "import pandas as pd\n",
    "import spacy"
   ]
  },
  {
   "cell_type": "code",
   "execution_count": 2,
   "id": "a35804d1",
   "metadata": {
    "execution": {
     "iopub.execute_input": "2022-12-05T06:08:43.783472Z",
     "iopub.status.busy": "2022-12-05T06:08:43.782814Z",
     "iopub.status.idle": "2022-12-05T06:08:44.427425Z",
     "shell.execute_reply": "2022-12-05T06:08:44.426225Z"
    },
    "papermill": {
     "duration": 0.651968,
     "end_time": "2022-12-05T06:08:44.430625",
     "exception": false,
     "start_time": "2022-12-05T06:08:43.778657",
     "status": "completed"
    },
    "tags": []
   },
   "outputs": [
    {
     "data": {
      "text/html": [
       "<div>\n",
       "<style scoped>\n",
       "    .dataframe tbody tr th:only-of-type {\n",
       "        vertical-align: middle;\n",
       "    }\n",
       "\n",
       "    .dataframe tbody tr th {\n",
       "        vertical-align: top;\n",
       "    }\n",
       "\n",
       "    .dataframe thead th {\n",
       "        text-align: right;\n",
       "    }\n",
       "</style>\n",
       "<table border=\"1\" class=\"dataframe\">\n",
       "  <thead>\n",
       "    <tr style=\"text-align: right;\">\n",
       "      <th></th>\n",
       "      <th>tweets</th>\n",
       "      <th>label</th>\n",
       "    </tr>\n",
       "  </thead>\n",
       "  <tbody>\n",
       "    <tr>\n",
       "      <th>0</th>\n",
       "      <td>clearly hate white people million india live c...</td>\n",
       "      <td>no_poverty</td>\n",
       "    </tr>\n",
       "    <tr>\n",
       "      <th>1</th>\n",
       "      <td>new india hide d poor poverty vanish burn d ra...</td>\n",
       "      <td>no_poverty</td>\n",
       "    </tr>\n",
       "    <tr>\n",
       "      <th>2</th>\n",
       "      <td>nehru till date remain good pm despite flaw co...</td>\n",
       "      <td>no_poverty</td>\n",
       "    </tr>\n",
       "    <tr>\n",
       "      <th>3</th>\n",
       "      <td>superiority complex like state india develop b...</td>\n",
       "      <td>no_poverty</td>\n",
       "    </tr>\n",
       "    <tr>\n",
       "      <th>4</th>\n",
       "      <td>late lakh shareholder life time poverty office...</td>\n",
       "      <td>no_poverty</td>\n",
       "    </tr>\n",
       "  </tbody>\n",
       "</table>\n",
       "</div>"
      ],
      "text/plain": [
       "                                              tweets       label\n",
       "0  clearly hate white people million india live c...  no_poverty\n",
       "1  new india hide d poor poverty vanish burn d ra...  no_poverty\n",
       "2  nehru till date remain good pm despite flaw co...  no_poverty\n",
       "3  superiority complex like state india develop b...  no_poverty\n",
       "4  late lakh shareholder life time poverty office...  no_poverty"
      ]
     },
     "execution_count": 2,
     "metadata": {},
     "output_type": "execute_result"
    }
   ],
   "source": [
    "processed_df = pd.read_csv('/kaggle/input/data-preprocessing-twitter/processed_tweets.csv')\n",
    "processed_df.head()"
   ]
  },
  {
   "cell_type": "code",
   "execution_count": 3,
   "id": "ce66edd5",
   "metadata": {
    "execution": {
     "iopub.execute_input": "2022-12-05T06:08:44.438108Z",
     "iopub.status.busy": "2022-12-05T06:08:44.437692Z",
     "iopub.status.idle": "2022-12-05T06:08:44.445560Z",
     "shell.execute_reply": "2022-12-05T06:08:44.444508Z"
    },
    "papermill": {
     "duration": 0.014202,
     "end_time": "2022-12-05T06:08:44.447912",
     "exception": false,
     "start_time": "2022-12-05T06:08:44.433710",
     "status": "completed"
    },
    "tags": []
   },
   "outputs": [
    {
     "data": {
      "text/plain": [
       "(131778, 2)"
      ]
     },
     "execution_count": 3,
     "metadata": {},
     "output_type": "execute_result"
    }
   ],
   "source": [
    "processed_df.shape"
   ]
  },
  {
   "cell_type": "code",
   "execution_count": 4,
   "id": "9be0ffc7",
   "metadata": {
    "execution": {
     "iopub.execute_input": "2022-12-05T06:08:44.455963Z",
     "iopub.status.busy": "2022-12-05T06:08:44.455585Z",
     "iopub.status.idle": "2022-12-05T06:08:48.204035Z",
     "shell.execute_reply": "2022-12-05T06:08:48.202873Z"
    },
    "papermill": {
     "duration": 3.755629,
     "end_time": "2022-12-05T06:08:48.206832",
     "exception": false,
     "start_time": "2022-12-05T06:08:44.451203",
     "status": "completed"
    },
    "tags": []
   },
   "outputs": [],
   "source": [
    "nlp = spacy.load('en_core_web_lg')\n",
    "\n",
    "def get_vector(text):\n",
    "    return nlp(text).vector"
   ]
  },
  {
   "cell_type": "code",
   "execution_count": 5,
   "id": "79b33245",
   "metadata": {
    "execution": {
     "iopub.execute_input": "2022-12-05T06:08:48.215519Z",
     "iopub.status.busy": "2022-12-05T06:08:48.214760Z",
     "iopub.status.idle": "2022-12-05T06:08:48.317240Z",
     "shell.execute_reply": "2022-12-05T06:08:48.316210Z"
    },
    "papermill": {
     "duration": 0.109801,
     "end_time": "2022-12-05T06:08:48.320048",
     "exception": false,
     "start_time": "2022-12-05T06:08:48.210247",
     "status": "completed"
    },
    "tags": []
   },
   "outputs": [],
   "source": [
    "processed_df.drop_duplicates(inplace=True)\n",
    "processed_df.dropna(how='any', inplace=True)"
   ]
  },
  {
   "cell_type": "code",
   "execution_count": 6,
   "id": "5b6cddea",
   "metadata": {
    "execution": {
     "iopub.execute_input": "2022-12-05T06:08:48.328064Z",
     "iopub.status.busy": "2022-12-05T06:08:48.327680Z",
     "iopub.status.idle": "2022-12-05T06:08:48.334718Z",
     "shell.execute_reply": "2022-12-05T06:08:48.333564Z"
    },
    "papermill": {
     "duration": 0.01356,
     "end_time": "2022-12-05T06:08:48.336942",
     "exception": false,
     "start_time": "2022-12-05T06:08:48.323382",
     "status": "completed"
    },
    "tags": []
   },
   "outputs": [
    {
     "data": {
      "text/plain": [
       "(131757, 2)"
      ]
     },
     "execution_count": 6,
     "metadata": {},
     "output_type": "execute_result"
    }
   ],
   "source": [
    "processed_df.shape"
   ]
  },
  {
   "cell_type": "code",
   "execution_count": 7,
   "id": "2fb981b2",
   "metadata": {
    "execution": {
     "iopub.execute_input": "2022-12-05T06:08:48.345090Z",
     "iopub.status.busy": "2022-12-05T06:08:48.344700Z",
     "iopub.status.idle": "2022-12-05T06:08:48.378361Z",
     "shell.execute_reply": "2022-12-05T06:08:48.377204Z"
    },
    "papermill": {
     "duration": 0.040446,
     "end_time": "2022-12-05T06:08:48.380743",
     "exception": false,
     "start_time": "2022-12-05T06:08:48.340297",
     "status": "completed"
    },
    "tags": []
   },
   "outputs": [
    {
     "data": {
      "text/plain": [
       "(300,)"
      ]
     },
     "execution_count": 7,
     "metadata": {},
     "output_type": "execute_result"
    }
   ],
   "source": [
    "get_vector('Innovations in India are benefitting people globally'.lower()).shape"
   ]
  },
  {
   "cell_type": "code",
   "execution_count": 8,
   "id": "b32df2f3",
   "metadata": {
    "execution": {
     "iopub.execute_input": "2022-12-05T06:08:48.389943Z",
     "iopub.status.busy": "2022-12-05T06:08:48.388888Z",
     "iopub.status.idle": "2022-12-05T06:29:50.918855Z",
     "shell.execute_reply": "2022-12-05T06:29:50.917484Z"
    },
    "papermill": {
     "duration": 1262.540703,
     "end_time": "2022-12-05T06:29:50.924902",
     "exception": false,
     "start_time": "2022-12-05T06:08:48.384199",
     "status": "completed"
    },
    "tags": []
   },
   "outputs": [
    {
     "name": "stdout",
     "output_type": "stream",
     "text": [
      "CPU times: user 21min 1s, sys: 677 ms, total: 21min 1s\n",
      "Wall time: 21min 2s\n"
     ]
    }
   ],
   "source": [
    "%%time\n",
    "processed_df['vector'] = processed_df['tweets'].apply(get_vector)"
   ]
  },
  {
   "cell_type": "code",
   "execution_count": 9,
   "id": "42800f76",
   "metadata": {
    "execution": {
     "iopub.execute_input": "2022-12-05T06:29:50.933438Z",
     "iopub.status.busy": "2022-12-05T06:29:50.933021Z",
     "iopub.status.idle": "2022-12-05T06:35:39.803260Z",
     "shell.execute_reply": "2022-12-05T06:35:39.801862Z"
    },
    "papermill": {
     "duration": 348.878199,
     "end_time": "2022-12-05T06:35:39.806565",
     "exception": false,
     "start_time": "2022-12-05T06:29:50.928366",
     "status": "completed"
    },
    "tags": []
   },
   "outputs": [],
   "source": [
    "processed_df[['vector', 'label']].to_csv('vectorized_tweets.csv', index=False)"
   ]
  }
 ],
 "metadata": {
  "kernelspec": {
   "display_name": "Python 3",
   "language": "python",
   "name": "python3"
  },
  "language_info": {
   "codemirror_mode": {
    "name": "ipython",
    "version": 3
   },
   "file_extension": ".py",
   "mimetype": "text/x-python",
   "name": "python",
   "nbconvert_exporter": "python",
   "pygments_lexer": "ipython3",
   "version": "3.7.12"
  },
  "papermill": {
   "default_parameters": {},
   "duration": 1639.135002,
   "end_time": "2022-12-05T06:35:43.059983",
   "environment_variables": {},
   "exception": null,
   "input_path": "__notebook__.ipynb",
   "output_path": "__notebook__.ipynb",
   "parameters": {},
   "start_time": "2022-12-05T06:08:23.924981",
   "version": "2.3.4"
  }
 },
 "nbformat": 4,
 "nbformat_minor": 5
}
