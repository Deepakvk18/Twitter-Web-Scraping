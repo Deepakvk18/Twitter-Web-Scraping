{
 "cells": [
  {
   "cell_type": "code",
   "execution_count": 1,
   "id": "d4c0cf75",
   "metadata": {
    "execution": {
     "iopub.execute_input": "2022-12-05T07:43:00.157408Z",
     "iopub.status.busy": "2022-12-05T07:43:00.156930Z",
     "iopub.status.idle": "2022-12-05T07:43:11.898567Z",
     "shell.execute_reply": "2022-12-05T07:43:11.897488Z"
    },
    "papermill": {
     "duration": 11.750215,
     "end_time": "2022-12-05T07:43:11.901352",
     "exception": false,
     "start_time": "2022-12-05T07:43:00.151137",
     "status": "completed"
    },
    "tags": []
   },
   "outputs": [],
   "source": [
    "import pandas as pd\n",
    "import numpy as np\n",
    "import spacy"
   ]
  },
  {
   "cell_type": "code",
   "execution_count": 2,
   "id": "e7cc57b3",
   "metadata": {
    "execution": {
     "iopub.execute_input": "2022-12-05T07:43:11.909727Z",
     "iopub.status.busy": "2022-12-05T07:43:11.909003Z",
     "iopub.status.idle": "2022-12-05T07:43:28.677783Z",
     "shell.execute_reply": "2022-12-05T07:43:28.676482Z"
    },
    "papermill": {
     "duration": 16.776003,
     "end_time": "2022-12-05T07:43:28.680550",
     "exception": false,
     "start_time": "2022-12-05T07:43:11.904547",
     "status": "completed"
    },
    "tags": []
   },
   "outputs": [],
   "source": [
    "comments_1 = pd.read_csv('/kaggle/input/climate-change-cleaned-comments-3/cleaned_comments.csv')"
   ]
  },
  {
   "cell_type": "code",
   "execution_count": 3,
   "id": "762dd1b4",
   "metadata": {
    "execution": {
     "iopub.execute_input": "2022-12-05T07:43:28.689275Z",
     "iopub.status.busy": "2022-12-05T07:43:28.688277Z",
     "iopub.status.idle": "2022-12-05T07:43:28.710058Z",
     "shell.execute_reply": "2022-12-05T07:43:28.708825Z"
    },
    "papermill": {
     "duration": 0.029294,
     "end_time": "2022-12-05T07:43:28.713238",
     "exception": false,
     "start_time": "2022-12-05T07:43:28.683944",
     "status": "completed"
    },
    "tags": []
   },
   "outputs": [
    {
     "data": {
      "text/html": [
       "<div>\n",
       "<style scoped>\n",
       "    .dataframe tbody tr th:only-of-type {\n",
       "        vertical-align: middle;\n",
       "    }\n",
       "\n",
       "    .dataframe tbody tr th {\n",
       "        vertical-align: top;\n",
       "    }\n",
       "\n",
       "    .dataframe thead th {\n",
       "        text-align: right;\n",
       "    }\n",
       "</style>\n",
       "<table border=\"1\" class=\"dataframe\">\n",
       "  <thead>\n",
       "    <tr style=\"text-align: right;\">\n",
       "      <th></th>\n",
       "      <th>body</th>\n",
       "      <th>label</th>\n",
       "    </tr>\n",
       "  </thead>\n",
       "  <tbody>\n",
       "    <tr>\n",
       "      <th>0</th>\n",
       "      <td>nation america invade country illegally destab...</td>\n",
       "      <td>-1</td>\n",
       "    </tr>\n",
       "    <tr>\n",
       "      <th>1</th>\n",
       "      <td>gt gt;overpopulation big threat face world  gt...</td>\n",
       "      <td>0</td>\n",
       "    </tr>\n",
       "    <tr>\n",
       "      <th>2</th>\n",
       "      <td>m not go pretend know situation m not advice g...</td>\n",
       "      <td>-1</td>\n",
       "    </tr>\n",
       "    <tr>\n",
       "      <th>3</th>\n",
       "      <td>honestly mere fact get people climate change p...</td>\n",
       "      <td>1</td>\n",
       "    </tr>\n",
       "    <tr>\n",
       "      <th>4</th>\n",
       "      <td>think problem left jump try blow way real evid...</td>\n",
       "      <td>-1</td>\n",
       "    </tr>\n",
       "  </tbody>\n",
       "</table>\n",
       "</div>"
      ],
      "text/plain": [
       "                                                body  label\n",
       "0  nation america invade country illegally destab...     -1\n",
       "1  gt gt;overpopulation big threat face world  gt...      0\n",
       "2  m not go pretend know situation m not advice g...     -1\n",
       "3  honestly mere fact get people climate change p...      1\n",
       "4  think problem left jump try blow way real evid...     -1"
      ]
     },
     "execution_count": 3,
     "metadata": {},
     "output_type": "execute_result"
    }
   ],
   "source": [
    "comments_1.head()"
   ]
  },
  {
   "cell_type": "code",
   "execution_count": 4,
   "id": "ce23d8cc",
   "metadata": {
    "execution": {
     "iopub.execute_input": "2022-12-05T07:43:28.721765Z",
     "iopub.status.busy": "2022-12-05T07:43:28.721044Z",
     "iopub.status.idle": "2022-12-05T07:43:32.534362Z",
     "shell.execute_reply": "2022-12-05T07:43:32.533092Z"
    },
    "papermill": {
     "duration": 3.820705,
     "end_time": "2022-12-05T07:43:32.537283",
     "exception": false,
     "start_time": "2022-12-05T07:43:28.716578",
     "status": "completed"
    },
    "tags": []
   },
   "outputs": [],
   "source": [
    "nlp = spacy.load('en_core_web_lg')"
   ]
  },
  {
   "cell_type": "code",
   "execution_count": 5,
   "id": "a91090b2",
   "metadata": {
    "execution": {
     "iopub.execute_input": "2022-12-05T07:43:32.545593Z",
     "iopub.status.busy": "2022-12-05T07:43:32.545157Z",
     "iopub.status.idle": "2022-12-05T07:43:32.585073Z",
     "shell.execute_reply": "2022-12-05T07:43:32.583838Z"
    },
    "papermill": {
     "duration": 0.047055,
     "end_time": "2022-12-05T07:43:32.587647",
     "exception": false,
     "start_time": "2022-12-05T07:43:32.540592",
     "status": "completed"
    },
    "tags": []
   },
   "outputs": [
    {
     "data": {
      "text/plain": [
       "(300,)"
      ]
     },
     "execution_count": 5,
     "metadata": {},
     "output_type": "execute_result"
    }
   ],
   "source": [
    "nlp('Climate change is real!').vector.shape"
   ]
  },
  {
   "cell_type": "code",
   "execution_count": 6,
   "id": "dd314d42",
   "metadata": {
    "execution": {
     "iopub.execute_input": "2022-12-05T07:43:32.596132Z",
     "iopub.status.busy": "2022-12-05T07:43:32.595734Z",
     "iopub.status.idle": "2022-12-05T07:43:32.890708Z",
     "shell.execute_reply": "2022-12-05T07:43:32.889330Z"
    },
    "papermill": {
     "duration": 0.302462,
     "end_time": "2022-12-05T07:43:32.893453",
     "exception": false,
     "start_time": "2022-12-05T07:43:32.590991",
     "status": "completed"
    },
    "tags": []
   },
   "outputs": [],
   "source": [
    "comments_1.dropna(how='any', inplace=True)"
   ]
  },
  {
   "cell_type": "code",
   "execution_count": 7,
   "id": "8cf738e3",
   "metadata": {
    "execution": {
     "iopub.execute_input": "2022-12-05T07:43:32.902518Z",
     "iopub.status.busy": "2022-12-05T07:43:32.901277Z",
     "iopub.status.idle": "2022-12-05T14:13:16.783800Z",
     "shell.execute_reply": "2022-12-05T14:13:16.782516Z"
    },
    "papermill": {
     "duration": 23383.892585,
     "end_time": "2022-12-05T14:13:16.789351",
     "exception": false,
     "start_time": "2022-12-05T07:43:32.896766",
     "status": "completed"
    },
    "tags": []
   },
   "outputs": [
    {
     "name": "stdout",
     "output_type": "stream",
     "text": [
      "CPU times: user 6h 29min 22s, sys: 7.92 s, total: 6h 29min 30s\n",
      "Wall time: 6h 29min 43s\n"
     ]
    }
   ],
   "source": [
    "%%time\n",
    "comments_1['vectors'] = comments_1['body'].apply(lambda x: nlp(x).vector)"
   ]
  },
  {
   "cell_type": "code",
   "execution_count": 8,
   "id": "784b7209",
   "metadata": {
    "execution": {
     "iopub.execute_input": "2022-12-05T14:13:16.800490Z",
     "iopub.status.busy": "2022-12-05T14:13:16.799309Z",
     "iopub.status.idle": "2022-12-05T14:13:16.819030Z",
     "shell.execute_reply": "2022-12-05T14:13:16.817654Z"
    },
    "papermill": {
     "duration": 0.028787,
     "end_time": "2022-12-05T14:13:16.821764",
     "exception": false,
     "start_time": "2022-12-05T14:13:16.792977",
     "status": "completed"
    },
    "tags": []
   },
   "outputs": [
    {
     "data": {
      "text/html": [
       "<div>\n",
       "<style scoped>\n",
       "    .dataframe tbody tr th:only-of-type {\n",
       "        vertical-align: middle;\n",
       "    }\n",
       "\n",
       "    .dataframe tbody tr th {\n",
       "        vertical-align: top;\n",
       "    }\n",
       "\n",
       "    .dataframe thead th {\n",
       "        text-align: right;\n",
       "    }\n",
       "</style>\n",
       "<table border=\"1\" class=\"dataframe\">\n",
       "  <thead>\n",
       "    <tr style=\"text-align: right;\">\n",
       "      <th></th>\n",
       "      <th>body</th>\n",
       "      <th>label</th>\n",
       "      <th>vectors</th>\n",
       "    </tr>\n",
       "  </thead>\n",
       "  <tbody>\n",
       "    <tr>\n",
       "      <th>0</th>\n",
       "      <td>nation america invade country illegally destab...</td>\n",
       "      <td>-1</td>\n",
       "      <td>[-0.26833776, 0.14960591, 0.007983697, -0.0127...</td>\n",
       "    </tr>\n",
       "    <tr>\n",
       "      <th>1</th>\n",
       "      <td>gt gt;overpopulation big threat face world  gt...</td>\n",
       "      <td>0</td>\n",
       "      <td>[0.0080255475, 0.011752768, 0.034371626, -0.11...</td>\n",
       "    </tr>\n",
       "    <tr>\n",
       "      <th>2</th>\n",
       "      <td>m not go pretend know situation m not advice g...</td>\n",
       "      <td>-1</td>\n",
       "      <td>[-0.13227378, 0.14987959, -0.20099251, 0.00904...</td>\n",
       "    </tr>\n",
       "    <tr>\n",
       "      <th>3</th>\n",
       "      <td>honestly mere fact get people climate change p...</td>\n",
       "      <td>1</td>\n",
       "      <td>[-0.1319686, 0.20665784, -0.118864946, -0.0272...</td>\n",
       "    </tr>\n",
       "    <tr>\n",
       "      <th>4</th>\n",
       "      <td>think problem left jump try blow way real evid...</td>\n",
       "      <td>-1</td>\n",
       "      <td>[-0.1837986, 0.18518755, -0.16746719, 0.034813...</td>\n",
       "    </tr>\n",
       "  </tbody>\n",
       "</table>\n",
       "</div>"
      ],
      "text/plain": [
       "                                                body  label  \\\n",
       "0  nation america invade country illegally destab...     -1   \n",
       "1  gt gt;overpopulation big threat face world  gt...      0   \n",
       "2  m not go pretend know situation m not advice g...     -1   \n",
       "3  honestly mere fact get people climate change p...      1   \n",
       "4  think problem left jump try blow way real evid...     -1   \n",
       "\n",
       "                                             vectors  \n",
       "0  [-0.26833776, 0.14960591, 0.007983697, -0.0127...  \n",
       "1  [0.0080255475, 0.011752768, 0.034371626, -0.11...  \n",
       "2  [-0.13227378, 0.14987959, -0.20099251, 0.00904...  \n",
       "3  [-0.1319686, 0.20665784, -0.118864946, -0.0272...  \n",
       "4  [-0.1837986, 0.18518755, -0.16746719, 0.034813...  "
      ]
     },
     "execution_count": 8,
     "metadata": {},
     "output_type": "execute_result"
    }
   ],
   "source": [
    "comments_1.head()"
   ]
  },
  {
   "cell_type": "code",
   "execution_count": 9,
   "id": "24b41388",
   "metadata": {
    "execution": {
     "iopub.execute_input": "2022-12-05T14:13:16.831021Z",
     "iopub.status.busy": "2022-12-05T14:13:16.830531Z",
     "iopub.status.idle": "2022-12-05T15:15:59.696716Z",
     "shell.execute_reply": "2022-12-05T15:15:59.693607Z"
    },
    "papermill": {
     "duration": 3762.877991,
     "end_time": "2022-12-05T15:15:59.703603",
     "exception": false,
     "start_time": "2022-12-05T14:13:16.825612",
     "status": "completed"
    },
    "tags": []
   },
   "outputs": [],
   "source": [
    "comments_1[['vectors', 'label']].to_csv('spacy_vectors_2.csv', index=False)"
   ]
  }
 ],
 "metadata": {
  "kernelspec": {
   "display_name": "Python 3",
   "language": "python",
   "name": "python3"
  },
  "language_info": {
   "codemirror_mode": {
    "name": "ipython",
    "version": 3
   },
   "file_extension": ".py",
   "mimetype": "text/x-python",
   "name": "python",
   "nbconvert_exporter": "python",
   "pygments_lexer": "ipython3",
   "version": "3.7.12"
  },
  "papermill": {
   "default_parameters": {},
   "duration": 27191.284971,
   "end_time": "2022-12-05T15:16:02.710947",
   "environment_variables": {},
   "exception": null,
   "input_path": "__notebook__.ipynb",
   "output_path": "__notebook__.ipynb",
   "parameters": {},
   "start_time": "2022-12-05T07:42:51.425976",
   "version": "2.3.4"
  }
 },
 "nbformat": 4,
 "nbformat_minor": 5
}
