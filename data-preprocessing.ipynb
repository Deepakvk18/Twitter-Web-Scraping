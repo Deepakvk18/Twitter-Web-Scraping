{
 "cells": [
  {
   "cell_type": "code",
   "execution_count": 1,
   "id": "5fb2fc38",
   "metadata": {
    "_cell_guid": "b1076dfc-b9ad-4769-8c92-a6c4dae69d19",
    "_uuid": "8f2839f25d086af736a60e9eeb907d3b93b6e0e5",
    "execution": {
     "iopub.execute_input": "2022-11-25T05:28:27.060317Z",
     "iopub.status.busy": "2022-11-25T05:28:27.059889Z",
     "iopub.status.idle": "2022-11-25T05:28:40.225625Z",
     "shell.execute_reply": "2022-11-25T05:28:40.224007Z"
    },
    "papermill": {
     "duration": 13.174915,
     "end_time": "2022-11-25T05:28:40.229051",
     "exception": false,
     "start_time": "2022-11-25T05:28:27.054136",
     "status": "completed"
    },
    "tags": []
   },
   "outputs": [],
   "source": [
    "import numpy as np\n",
    "import pandas as pd\n",
    "import re\n",
    "import spacy\n",
    "import nltk\n",
    "from nltk.corpus import stopwords"
   ]
  },
  {
   "cell_type": "code",
   "execution_count": 2,
   "id": "e55b33c3",
   "metadata": {
    "execution": {
     "iopub.execute_input": "2022-11-25T05:28:40.237724Z",
     "iopub.status.busy": "2022-11-25T05:28:40.236959Z",
     "iopub.status.idle": "2022-11-25T05:28:41.057595Z",
     "shell.execute_reply": "2022-11-25T05:28:41.056367Z"
    },
    "papermill": {
     "duration": 0.827919,
     "end_time": "2022-11-25T05:28:41.060529",
     "exception": false,
     "start_time": "2022-11-25T05:28:40.232610",
     "status": "completed"
    },
    "tags": []
   },
   "outputs": [
    {
     "data": {
      "text/html": [
       "<div>\n",
       "<style scoped>\n",
       "    .dataframe tbody tr th:only-of-type {\n",
       "        vertical-align: middle;\n",
       "    }\n",
       "\n",
       "    .dataframe tbody tr th {\n",
       "        vertical-align: top;\n",
       "    }\n",
       "\n",
       "    .dataframe thead th {\n",
       "        text-align: right;\n",
       "    }\n",
       "</style>\n",
       "<table border=\"1\" class=\"dataframe\">\n",
       "  <thead>\n",
       "    <tr style=\"text-align: right;\">\n",
       "      <th></th>\n",
       "      <th>tweets</th>\n",
       "      <th>labels</th>\n",
       "      <th>Sentiment</th>\n",
       "    </tr>\n",
       "  </thead>\n",
       "  <tbody>\n",
       "    <tr>\n",
       "      <th>0</th>\n",
       "      <td>@IvorMectin1 He clearly hates white people. Mi...</td>\n",
       "      <td>no_poverty</td>\n",
       "      <td>1</td>\n",
       "    </tr>\n",
       "    <tr>\n",
       "      <th>1</th>\n",
       "      <td>@vinodkapri New India, hide d poor =poverty va...</td>\n",
       "      <td>no_poverty</td>\n",
       "      <td>1</td>\n",
       "    </tr>\n",
       "    <tr>\n",
       "      <th>2</th>\n",
       "      <td>If not, join us today.\\nIf you encounter any C...</td>\n",
       "      <td>no_poverty</td>\n",
       "      <td>1</td>\n",
       "    </tr>\n",
       "    <tr>\n",
       "      <th>3</th>\n",
       "      <td>\"All the Loadshedding, Unemployment, R500-bill...</td>\n",
       "      <td>no_poverty</td>\n",
       "      <td>1</td>\n",
       "    </tr>\n",
       "    <tr>\n",
       "      <th>4</th>\n",
       "      <td>\"Ideals of Swami Vivekananda?\"\\n99% poverty in...</td>\n",
       "      <td>no_poverty</td>\n",
       "      <td>1</td>\n",
       "    </tr>\n",
       "  </tbody>\n",
       "</table>\n",
       "</div>"
      ],
      "text/plain": [
       "                                              tweets      labels  Sentiment\n",
       "0  @IvorMectin1 He clearly hates white people. Mi...  no_poverty          1\n",
       "1  @vinodkapri New India, hide d poor =poverty va...  no_poverty          1\n",
       "2  If not, join us today.\\nIf you encounter any C...  no_poverty          1\n",
       "3  \"All the Loadshedding, Unemployment, R500-bill...  no_poverty          1\n",
       "4  \"Ideals of Swami Vivekananda?\"\\n99% poverty in...  no_poverty          1"
      ]
     },
     "execution_count": 2,
     "metadata": {},
     "output_type": "execute_result"
    }
   ],
   "source": [
    "# Importing the data\n",
    "tweets = pd.read_csv('https://raw.githubusercontent.com/Deepakvk18/Twitter-Web-Scraping/main/negative_sentiment_tweets.csv')\n",
    "tweets.head()"
   ]
  },
  {
   "cell_type": "code",
   "execution_count": 3,
   "id": "4e767b95",
   "metadata": {
    "execution": {
     "iopub.execute_input": "2022-11-25T05:28:41.068874Z",
     "iopub.status.busy": "2022-11-25T05:28:41.068023Z",
     "iopub.status.idle": "2022-11-25T05:28:41.077399Z",
     "shell.execute_reply": "2022-11-25T05:28:41.076186Z"
    },
    "papermill": {
     "duration": 0.016544,
     "end_time": "2022-11-25T05:28:41.080252",
     "exception": false,
     "start_time": "2022-11-25T05:28:41.063708",
     "status": "completed"
    },
    "tags": []
   },
   "outputs": [
    {
     "data": {
      "text/plain": [
       "(71888, 3)"
      ]
     },
     "execution_count": 3,
     "metadata": {},
     "output_type": "execute_result"
    }
   ],
   "source": [
    "tweets.shape"
   ]
  },
  {
   "cell_type": "code",
   "execution_count": 4,
   "id": "8fb285de",
   "metadata": {
    "execution": {
     "iopub.execute_input": "2022-11-25T05:28:41.089475Z",
     "iopub.status.busy": "2022-11-25T05:28:41.088497Z",
     "iopub.status.idle": "2022-11-25T05:28:41.951297Z",
     "shell.execute_reply": "2022-11-25T05:28:41.949868Z"
    },
    "papermill": {
     "duration": 0.870533,
     "end_time": "2022-11-25T05:28:41.954342",
     "exception": false,
     "start_time": "2022-11-25T05:28:41.083809",
     "status": "completed"
    },
    "tags": []
   },
   "outputs": [],
   "source": [
    "nlp = spacy.load('en_core_web_sm')\n",
    "\n",
    "# Text Pre-processing\n",
    "def preprocess(text):\n",
    "    \n",
    "    \"\"\"This function return the text after performing text cleaning which includes \n",
    "    removing punctuations, stopwords, urls and cleans the hashtags\n",
    "    text - String to be cleaned\n",
    "    Returns string\"\"\"\n",
    "    \n",
    "    doc = nlp(text)\n",
    "    \n",
    "    # List to store the tokens that are filtered and cleaned\n",
    "    filtered_tokens = []\n",
    "    for token in doc:\n",
    "        \n",
    "        # If token is not a punctuation, not a url,        not a stopword           not a mention of another twitter handle      is only text\n",
    "        if not token.is_punct and not token.like_url and not token.is_stop and not re.match('.*@[A-Za-z0-9_]+', token.text) and token.is_alpha:\n",
    "            filtered_tokens.append(token.lemma_.strip())\n",
    "            \n",
    "    return ' '.join(filtered_tokens)"
   ]
  },
  {
   "cell_type": "code",
   "execution_count": 5,
   "id": "bf86a904",
   "metadata": {
    "execution": {
     "iopub.execute_input": "2022-11-25T05:28:41.962611Z",
     "iopub.status.busy": "2022-11-25T05:28:41.962195Z",
     "iopub.status.idle": "2022-11-25T05:28:42.002344Z",
     "shell.execute_reply": "2022-11-25T05:28:42.000769Z"
    },
    "papermill": {
     "duration": 0.047457,
     "end_time": "2022-11-25T05:28:42.005159",
     "exception": false,
     "start_time": "2022-11-25T05:28:41.957702",
     "status": "completed"
    },
    "tags": []
   },
   "outputs": [
    {
     "name": "stdout",
     "output_type": "stream",
     "text": [
      "RT\"A blowback in India's booming aviation industry: Surge in consumer complaints.. https://t.co/M8YbNf6cPj\"\n",
      "=============================================================================================================\n",
      "After Preprocessing\n",
      "=============================================================================================================\n",
      "blowback India boom aviation industry Surge consumer complaint\n"
     ]
    }
   ],
   "source": [
    "sample_tweet = tweets.tweets.sample(1).values[0]\n",
    "print(sample_tweet)\n",
    "print(\"=============================================================================================================\")\n",
    "print(\"After Preprocessing\")\n",
    "print(\"=============================================================================================================\")\n",
    "print(preprocess(sample_tweet))"
   ]
  },
  {
   "cell_type": "code",
   "execution_count": 6,
   "id": "0cd48add",
   "metadata": {
    "execution": {
     "iopub.execute_input": "2022-11-25T05:28:42.013845Z",
     "iopub.status.busy": "2022-11-25T05:28:42.013395Z",
     "iopub.status.idle": "2022-11-25T05:43:36.711648Z",
     "shell.execute_reply": "2022-11-25T05:43:36.710477Z"
    },
    "papermill": {
     "duration": 894.709844,
     "end_time": "2022-11-25T05:43:36.718452",
     "exception": false,
     "start_time": "2022-11-25T05:28:42.008608",
     "status": "completed"
    },
    "tags": []
   },
   "outputs": [
    {
     "name": "stdout",
     "output_type": "stream",
     "text": [
      "CPU times: user 14min 53s, sys: 763 ms, total: 14min 54s\n",
      "Wall time: 14min 54s\n"
     ]
    },
    {
     "data": {
      "text/plain": [
       "0    clearly hate white people million India live c...\n",
       "1    New India hide d poor poverty vanish burn d ra...\n",
       "2    join today encounter childlabour victim contac...\n",
       "3    Loadshedding unemployment billion PPE Poverty ...\n",
       "4    ideal Swami Vivekananda poverty India tieup co...\n",
       "Name: tweets, dtype: object"
      ]
     },
     "execution_count": 6,
     "metadata": {},
     "output_type": "execute_result"
    }
   ],
   "source": [
    "%%time\n",
    "processed_tweets = tweets['tweets'].apply(preprocess)\n",
    "processed_tweets[:5]"
   ]
  },
  {
   "cell_type": "code",
   "execution_count": 7,
   "id": "995ae07a",
   "metadata": {
    "execution": {
     "iopub.execute_input": "2022-11-25T05:43:36.727521Z",
     "iopub.status.busy": "2022-11-25T05:43:36.726561Z",
     "iopub.status.idle": "2022-11-25T05:43:36.796742Z",
     "shell.execute_reply": "2022-11-25T05:43:36.795196Z"
    },
    "papermill": {
     "duration": 0.077734,
     "end_time": "2022-11-25T05:43:36.799567",
     "exception": false,
     "start_time": "2022-11-25T05:43:36.721833",
     "status": "completed"
    },
    "tags": []
   },
   "outputs": [
    {
     "name": "stdout",
     "output_type": "stream",
     "text": [
      "(71888, 2)\n",
      "(57674, 2)\n"
     ]
    }
   ],
   "source": [
    "processed_df = pd.DataFrame({'tweets':processed_tweets, 'label':tweets['labels']})\n",
    "print(processed_df.shape)\n",
    "processed_df.drop_duplicates(inplace=True)\n",
    "print(processed_df.shape)"
   ]
  },
  {
   "cell_type": "code",
   "execution_count": 8,
   "id": "11b27997",
   "metadata": {
    "execution": {
     "iopub.execute_input": "2022-11-25T05:43:36.808776Z",
     "iopub.status.busy": "2022-11-25T05:43:36.808328Z",
     "iopub.status.idle": "2022-11-25T05:43:37.052686Z",
     "shell.execute_reply": "2022-11-25T05:43:37.051679Z"
    },
    "papermill": {
     "duration": 0.25224,
     "end_time": "2022-11-25T05:43:37.055567",
     "exception": false,
     "start_time": "2022-11-25T05:43:36.803327",
     "status": "completed"
    },
    "tags": []
   },
   "outputs": [],
   "source": [
    "processed_df.to_csv('preprocessed_tweets.csv', index=False)"
   ]
  }
 ],
 "metadata": {
  "kernelspec": {
   "display_name": "Python 3",
   "language": "python",
   "name": "python3"
  },
  "language_info": {
   "codemirror_mode": {
    "name": "ipython",
    "version": 3
   },
   "file_extension": ".py",
   "mimetype": "text/x-python",
   "name": "python",
   "nbconvert_exporter": "python",
   "pygments_lexer": "ipython3",
   "version": "3.7.12"
  },
  "papermill": {
   "default_parameters": {},
   "duration": 921.672095,
   "end_time": "2022-11-25T05:43:39.845149",
   "environment_variables": {},
   "exception": null,
   "input_path": "__notebook__.ipynb",
   "output_path": "__notebook__.ipynb",
   "parameters": {},
   "start_time": "2022-11-25T05:28:18.173054",
   "version": "2.3.4"
  }
 },
 "nbformat": 4,
 "nbformat_minor": 5
}
