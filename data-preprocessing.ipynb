{
 "cells": [
  {
   "cell_type": "code",
   "execution_count": 1,
   "id": "84dbefdc",
   "metadata": {
    "_cell_guid": "b1076dfc-b9ad-4769-8c92-a6c4dae69d19",
    "_uuid": "8f2839f25d086af736a60e9eeb907d3b93b6e0e5",
    "execution": {
     "iopub.execute_input": "2022-11-25T06:16:59.728413Z",
     "iopub.status.busy": "2022-11-25T06:16:59.727333Z",
     "iopub.status.idle": "2022-11-25T06:17:13.606062Z",
     "shell.execute_reply": "2022-11-25T06:17:13.604975Z"
    },
    "papermill": {
     "duration": 13.886676,
     "end_time": "2022-11-25T06:17:13.608989",
     "exception": false,
     "start_time": "2022-11-25T06:16:59.722313",
     "status": "completed"
    },
    "tags": []
   },
   "outputs": [],
   "source": [
    "import numpy as np\n",
    "import pandas as pd\n",
    "import re\n",
    "import spacy\n",
    "import nltk\n",
    "from nltk.corpus import stopwords"
   ]
  },
  {
   "cell_type": "code",
   "execution_count": 2,
   "id": "9ae97d4b",
   "metadata": {
    "execution": {
     "iopub.execute_input": "2022-11-25T06:17:13.616744Z",
     "iopub.status.busy": "2022-11-25T06:17:13.616008Z",
     "iopub.status.idle": "2022-11-25T06:17:15.106277Z",
     "shell.execute_reply": "2022-11-25T06:17:15.104747Z"
    },
    "papermill": {
     "duration": 1.497088,
     "end_time": "2022-11-25T06:17:15.109193",
     "exception": false,
     "start_time": "2022-11-25T06:17:13.612105",
     "status": "completed"
    },
    "tags": []
   },
   "outputs": [
    {
     "data": {
      "text/html": [
       "<div>\n",
       "<style scoped>\n",
       "    .dataframe tbody tr th:only-of-type {\n",
       "        vertical-align: middle;\n",
       "    }\n",
       "\n",
       "    .dataframe tbody tr th {\n",
       "        vertical-align: top;\n",
       "    }\n",
       "\n",
       "    .dataframe thead th {\n",
       "        text-align: right;\n",
       "    }\n",
       "</style>\n",
       "<table border=\"1\" class=\"dataframe\">\n",
       "  <thead>\n",
       "    <tr style=\"text-align: right;\">\n",
       "      <th></th>\n",
       "      <th>tweets</th>\n",
       "      <th>labels</th>\n",
       "      <th>Sentiment</th>\n",
       "    </tr>\n",
       "  </thead>\n",
       "  <tbody>\n",
       "    <tr>\n",
       "      <th>0</th>\n",
       "      <td>@IvorMectin1 He clearly hates white people. Mi...</td>\n",
       "      <td>no_poverty</td>\n",
       "      <td>1</td>\n",
       "    </tr>\n",
       "    <tr>\n",
       "      <th>1</th>\n",
       "      <td>@vinodkapri New India, hide d poor =poverty va...</td>\n",
       "      <td>no_poverty</td>\n",
       "      <td>1</td>\n",
       "    </tr>\n",
       "    <tr>\n",
       "      <th>2</th>\n",
       "      <td>If not, join us today.\\nIf you encounter any C...</td>\n",
       "      <td>no_poverty</td>\n",
       "      <td>1</td>\n",
       "    </tr>\n",
       "    <tr>\n",
       "      <th>3</th>\n",
       "      <td>\"All the Loadshedding, Unemployment, R500-bill...</td>\n",
       "      <td>no_poverty</td>\n",
       "      <td>1</td>\n",
       "    </tr>\n",
       "    <tr>\n",
       "      <th>4</th>\n",
       "      <td>\"Ideals of Swami Vivekananda?\"\\n99% poverty in...</td>\n",
       "      <td>no_poverty</td>\n",
       "      <td>1</td>\n",
       "    </tr>\n",
       "  </tbody>\n",
       "</table>\n",
       "</div>"
      ],
      "text/plain": [
       "                                              tweets      labels  Sentiment\n",
       "0  @IvorMectin1 He clearly hates white people. Mi...  no_poverty          1\n",
       "1  @vinodkapri New India, hide d poor =poverty va...  no_poverty          1\n",
       "2  If not, join us today.\\nIf you encounter any C...  no_poverty          1\n",
       "3  \"All the Loadshedding, Unemployment, R500-bill...  no_poverty          1\n",
       "4  \"Ideals of Swami Vivekananda?\"\\n99% poverty in...  no_poverty          1"
      ]
     },
     "execution_count": 2,
     "metadata": {},
     "output_type": "execute_result"
    }
   ],
   "source": [
    "# Importing the data\n",
    "tweets = pd.read_csv('https://raw.githubusercontent.com/Deepakvk18/Twitter-Web-Scraping/main/negative_sentiment_tweets.csv')\n",
    "tweets.head()"
   ]
  },
  {
   "cell_type": "code",
   "execution_count": 3,
   "id": "d3ed9988",
   "metadata": {
    "execution": {
     "iopub.execute_input": "2022-11-25T06:17:15.117599Z",
     "iopub.status.busy": "2022-11-25T06:17:15.116515Z",
     "iopub.status.idle": "2022-11-25T06:17:15.124109Z",
     "shell.execute_reply": "2022-11-25T06:17:15.122793Z"
    },
    "papermill": {
     "duration": 0.014438,
     "end_time": "2022-11-25T06:17:15.126833",
     "exception": false,
     "start_time": "2022-11-25T06:17:15.112395",
     "status": "completed"
    },
    "tags": []
   },
   "outputs": [
    {
     "data": {
      "text/plain": [
       "(71888, 3)"
      ]
     },
     "execution_count": 3,
     "metadata": {},
     "output_type": "execute_result"
    }
   ],
   "source": [
    "tweets.shape"
   ]
  },
  {
   "cell_type": "code",
   "execution_count": 4,
   "id": "1cff9fd0",
   "metadata": {
    "execution": {
     "iopub.execute_input": "2022-11-25T06:17:15.135706Z",
     "iopub.status.busy": "2022-11-25T06:17:15.134414Z",
     "iopub.status.idle": "2022-11-25T06:17:15.914545Z",
     "shell.execute_reply": "2022-11-25T06:17:15.913576Z"
    },
    "papermill": {
     "duration": 0.787049,
     "end_time": "2022-11-25T06:17:15.917051",
     "exception": false,
     "start_time": "2022-11-25T06:17:15.130002",
     "status": "completed"
    },
    "tags": []
   },
   "outputs": [],
   "source": [
    "nlp = spacy.load('en_core_web_sm')\n",
    "\n",
    "# Text Pre-processing\n",
    "def preprocess(text):\n",
    "    \n",
    "    \"\"\"This function return the text after performing text cleaning which includes \n",
    "    removing punctuations, stopwords, urls and cleans the hashtags\n",
    "    text - String to be cleaned\n",
    "    Returns string\"\"\"\n",
    "    \n",
    "    doc = nlp(text)\n",
    "    \n",
    "    # List to store the tokens that are filtered and cleaned\n",
    "    filtered_tokens = []\n",
    "    for token in doc:\n",
    "        \n",
    "        # If token is not a punctuation, not a url,        not a stopword           not a mention of another twitter handle      is only text\n",
    "        if not token.is_punct and not token.like_url and not token.is_stop and not re.match('.*@[A-Za-z0-9_]+', token.text) and token.is_alpha:\n",
    "            filtered_tokens.append(token.lemma_.strip())\n",
    "            \n",
    "    return ' '.join(filtered_tokens)"
   ]
  },
  {
   "cell_type": "code",
   "execution_count": 5,
   "id": "e2e1a8df",
   "metadata": {
    "execution": {
     "iopub.execute_input": "2022-11-25T06:17:15.924397Z",
     "iopub.status.busy": "2022-11-25T06:17:15.924048Z",
     "iopub.status.idle": "2022-11-25T06:17:15.973713Z",
     "shell.execute_reply": "2022-11-25T06:17:15.972128Z"
    },
    "papermill": {
     "duration": 0.056092,
     "end_time": "2022-11-25T06:17:15.976276",
     "exception": false,
     "start_time": "2022-11-25T06:17:15.920184",
     "status": "completed"
    },
    "tags": []
   },
   "outputs": [
    {
     "name": "stdout",
     "output_type": "stream",
     "text": [
      "@BSNLCorporate @BSNL_HP @TRAI @DoT_India @AshwiniVaishnaw @RajinderGargBJP  BSNL 01893-233027 telecom services is faulty again after numerous request and complains no resolution provided . Bsnl is scamming consumer with pathetic services. HELP !@forum_consumer @CMOFFICEHP\n",
      "=============================================================================================================\n",
      "After Preprocessing\n",
      "=============================================================================================================\n",
      "BSNL telecom service faulty numerous request complain resolution provide Bsnl scamme consumer pathetic service HELP\n"
     ]
    }
   ],
   "source": [
    "sample_tweet = tweets.tweets.sample(1).values[0]\n",
    "print(sample_tweet)\n",
    "print(\"=============================================================================================================\")\n",
    "print(\"After Preprocessing\")\n",
    "print(\"=============================================================================================================\")\n",
    "print(preprocess(sample_tweet))"
   ]
  },
  {
   "cell_type": "code",
   "execution_count": 6,
   "id": "9dadd875",
   "metadata": {
    "execution": {
     "iopub.execute_input": "2022-11-25T06:17:15.985299Z",
     "iopub.status.busy": "2022-11-25T06:17:15.984813Z",
     "iopub.status.idle": "2022-11-25T06:30:37.621167Z",
     "shell.execute_reply": "2022-11-25T06:30:37.619707Z"
    },
    "papermill": {
     "duration": 801.644823,
     "end_time": "2022-11-25T06:30:37.624549",
     "exception": false,
     "start_time": "2022-11-25T06:17:15.979726",
     "status": "completed"
    },
    "tags": []
   },
   "outputs": [
    {
     "name": "stdout",
     "output_type": "stream",
     "text": [
      "CPU times: user 13min 19s, sys: 603 ms, total: 13min 20s\n",
      "Wall time: 13min 21s\n"
     ]
    },
    {
     "data": {
      "text/plain": [
       "0    clearly hate white people million India live c...\n",
       "1    New India hide d poor poverty vanish burn d ra...\n",
       "2    join today encounter childlabour victim contac...\n",
       "3    Loadshedding unemployment billion PPE Poverty ...\n",
       "4    ideal Swami Vivekananda poverty India tieup co...\n",
       "Name: tweets, dtype: object"
      ]
     },
     "execution_count": 6,
     "metadata": {},
     "output_type": "execute_result"
    }
   ],
   "source": [
    "%%time\n",
    "processed_tweets = tweets['tweets'].apply(preprocess)\n",
    "processed_tweets[:5]"
   ]
  },
  {
   "cell_type": "code",
   "execution_count": 7,
   "id": "0b2e2a32",
   "metadata": {
    "execution": {
     "iopub.execute_input": "2022-11-25T06:30:37.634448Z",
     "iopub.status.busy": "2022-11-25T06:30:37.633918Z",
     "iopub.status.idle": "2022-11-25T06:30:37.752358Z",
     "shell.execute_reply": "2022-11-25T06:30:37.750455Z"
    },
    "papermill": {
     "duration": 0.127391,
     "end_time": "2022-11-25T06:30:37.755661",
     "exception": false,
     "start_time": "2022-11-25T06:30:37.628270",
     "status": "completed"
    },
    "tags": []
   },
   "outputs": [
    {
     "name": "stdout",
     "output_type": "stream",
     "text": [
      "(71888, 2)\n",
      "(57674, 2)\n"
     ]
    }
   ],
   "source": [
    "processed_df = pd.DataFrame({'tweets':processed_tweets, 'label':tweets['labels']})\n",
    "print(processed_df.shape)\n",
    "processed_df.drop_duplicates(inplace=True)\n",
    "print(processed_df.shape)"
   ]
  },
  {
   "cell_type": "code",
   "execution_count": 8,
   "id": "6c5a113d",
   "metadata": {
    "execution": {
     "iopub.execute_input": "2022-11-25T06:30:37.764682Z",
     "iopub.status.busy": "2022-11-25T06:30:37.764194Z",
     "iopub.status.idle": "2022-11-25T06:30:37.969901Z",
     "shell.execute_reply": "2022-11-25T06:30:37.968804Z"
    },
    "papermill": {
     "duration": 0.213249,
     "end_time": "2022-11-25T06:30:37.972721",
     "exception": false,
     "start_time": "2022-11-25T06:30:37.759472",
     "status": "completed"
    },
    "tags": []
   },
   "outputs": [],
   "source": [
    "processed_df.to_csv('preprocessed_tweets.csv', index=False)"
   ]
  }
 ],
 "metadata": {
  "kernelspec": {
   "display_name": "Python 3",
   "language": "python",
   "name": "python3"
  },
  "language_info": {
   "codemirror_mode": {
    "name": "ipython",
    "version": 3
   },
   "file_extension": ".py",
   "mimetype": "text/x-python",
   "name": "python",
   "nbconvert_exporter": "python",
   "pygments_lexer": "ipython3",
   "version": "3.7.12"
  },
  "papermill": {
   "default_parameters": {},
   "duration": 832.074128,
   "end_time": "2022-11-25T06:30:40.824139",
   "environment_variables": {},
   "exception": null,
   "input_path": "__notebook__.ipynb",
   "output_path": "__notebook__.ipynb",
   "parameters": {},
   "start_time": "2022-11-25T06:16:48.750011",
   "version": "2.3.4"
  }
 },
 "nbformat": 4,
 "nbformat_minor": 5
}
